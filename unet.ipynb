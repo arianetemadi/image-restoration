{
  "nbformat": 4,
  "nbformat_minor": 0,
  "metadata": {
    "colab": {
      "provenance": [],
      "authorship_tag": "ABX9TyOC3GmLGkmjckUxnacgVyR0"
    },
    "kernelspec": {
      "name": "python3",
      "display_name": "Python 3"
    },
    "language_info": {
      "name": "python"
    }
  },
  "cells": [
    {
      "cell_type": "code",
      "source": [
        "# imports\n",
        "import torch\n",
        "import numpy as np\n",
        "from torchvision.datasets import CIFAR10"
      ],
      "metadata": {
        "id": "RFhtaN0OHX-V"
      },
      "execution_count": 1,
      "outputs": []
    },
    {
      "cell_type": "markdown",
      "source": [
        "# Load the dataset"
      ],
      "metadata": {
        "id": "spHIy0OZHNt3"
      }
    },
    {
      "cell_type": "code",
      "execution_count": null,
      "metadata": {
        "id": "LALGqFAHF7-m"
      },
      "outputs": [],
      "source": []
    }
  ]
}