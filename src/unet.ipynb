{
  "nbformat": 4,
  "nbformat_minor": 0,
  "metadata": {
    "colab": {
      "provenance": [],
      "toc_visible": true,
      "authorship_tag": "ABX9TyPnSkFQhh1NI2Cv+4q5IbFn"
    },
    "kernelspec": {
      "name": "python3",
      "display_name": "Python 3"
    },
    "language_info": {
      "name": "python"
    }
  },
  "cells": [
    {
      "cell_type": "code",
      "source": [
        "# imports\n",
        "import torch\n",
        "import numpy as np\n",
        "from torchvision.datasets import CIFAR10"
      ],
      "metadata": {
        "id": "RFhtaN0OHX-V"
      },
      "execution_count": 1,
      "outputs": []
    },
    {
      "cell_type": "code",
      "execution_count": null,
      "metadata": {
        "id": "LALGqFAHF7-m"
      },
      "outputs": [],
      "source": [
        "# load the data\n",
        "train_dataset = CIFAR10()"
      ]
    }
  ]
}