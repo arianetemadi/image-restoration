{
 "cells": [
  {
   "cell_type": "markdown",
   "metadata": {},
   "source": [
    "### Notebook for prediction"
   ]
  },
  {
   "cell_type": "markdown",
   "metadata": {},
   "source": [
    "Make sure you have run the download_data script (or notebook) beforehand."
   ]
  },
  {
   "cell_type": "code",
   "execution_count": null,
   "metadata": {},
   "outputs": [],
   "source": [
    "import numpy as np\n",
    "\n",
    "from src.dataloader import Dataloader\n",
    "from src.model import UNet\n",
    "from src.util import show_prediction"
   ]
  },
  {
   "cell_type": "markdown",
   "metadata": {},
   "source": [
    "Let's first load the test data of DIV2K:"
   ]
  },
  {
   "cell_type": "code",
   "execution_count": null,
   "metadata": {},
   "outputs": [],
   "source": [
    "image_dir = \"../data/div2k-hr-test/\"\n",
    "texture_dir = \"../data/textures/\"\n",
    "color_mode = \"grayscale\"\n",
    "\n",
    "dataloader = Dataloader(\n",
    "    image_dir,\n",
    "    texture_dir,\n",
    "    image_size=(32 * 21, 32 * 32),  # = (672, 1024)\n",
    "    batch_size=8,\n",
    "    color_mode=color_mode,\n",
    "    validation_split=0.2,\n",
    ")\n",
    "\n",
    "test_ds, _ = dataloader.load_datasets(\n",
    "    noisy=True,\n",
    "    textured=True,\n",
    "    texture_alpha=0.1,\n",
    "    shuffle=True,\n",
    ")"
   ]
  },
  {
   "cell_type": "code",
   "execution_count": null,
   "metadata": {},
   "outputs": [],
   "source": [
    "# load model checkpoint\n",
    "checkpoint_filepath = \"../checkpoints/pretrained.weights.h5\"\n",
    "model = UNet(color_mode=color_mode)\n",
    "model.predict(test_ds.take(1))  # just to build the model\n",
    "model.load_weights(checkpoint_filepath)"
   ]
  },
  {
   "cell_type": "markdown",
   "metadata": {},
   "source": [
    "Now we're ready to restore some old photos!"
   ]
  },
  {
   "cell_type": "code",
   "execution_count": null,
   "metadata": {},
   "outputs": [
    {
     "ename": "",
     "evalue": "",
     "output_type": "error",
     "traceback": [
      "\u001b[1;31mThe Kernel crashed while executing code in the current cell or a previous cell. \n",
      "\u001b[1;31mPlease review the code in the cell(s) to identify a possible cause of the failure. \n",
      "\u001b[1;31mClick <a href='https://aka.ms/vscodeJupyterKernelCrash'>here</a> for more info. \n",
      "\u001b[1;31mView Jupyter <a href='command:jupyter.viewOutput'>log</a> for further details."
     ]
    }
   ],
   "source": [
    "# predict and visualize results\n",
    "num_samples = 10\n",
    "for x, y in test_ds.take(num_samples):\n",
    "    restored = model.predict(x)\n",
    "    i = np.random.randint(0, len(x), 1)[0]\n",
    "    show_prediction(y[i], x[i], restored[i], figsize=(20, 20))"
   ]
  }
 ],
 "metadata": {
  "kernelspec": {
   "display_name": "venv",
   "language": "python",
   "name": "python3"
  },
  "language_info": {
   "codemirror_mode": {
    "name": "ipython",
    "version": 3
   },
   "file_extension": ".py",
   "mimetype": "text/x-python",
   "name": "python",
   "nbconvert_exporter": "python",
   "pygments_lexer": "ipython3",
   "version": "3.10.12"
  }
 },
 "nbformat": 4,
 "nbformat_minor": 2
}
