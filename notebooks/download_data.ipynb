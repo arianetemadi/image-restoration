{
 "cells": [
  {
   "cell_type": "markdown",
   "metadata": {},
   "source": [
    "### Notebook for downloading the data"
   ]
  },
  {
   "cell_type": "code",
   "execution_count": 5,
   "metadata": {},
   "outputs": [],
   "source": [
    "from data.download_data import download_checkpoint_from_drive\n",
    "from data.download_data import download_and_unzip_from_drive"
   ]
  },
  {
   "cell_type": "code",
   "execution_count": 6,
   "metadata": {},
   "outputs": [
    {
     "data": {
      "text/plain": [
       "'../data/div2k-hr-test'"
      ]
     },
     "execution_count": 6,
     "metadata": {},
     "output_type": "execute_result"
    }
   ],
   "source": [
    "## Load the DIV2K dataset,\n",
    "# for training\n",
    "url = \"https://drive.google.com/file/d/15M1sLNX7uX16fo6UmszTlfmrKAmLizdB/view?usp=sharing\"\n",
    "download_and_unzip_from_drive(url, \"div2k-hr-train\")\n",
    "# for testing\n",
    "url = \"https://drive.google.com/file/d/15JuDY0_nkwnbV9SMmmyTtii6xrG3Gg4F/view?usp=sharing\"\n",
    "download_and_unzip_from_drive(url, \"div2k-hr-test\")"
   ]
  },
  {
   "cell_type": "code",
   "execution_count": 7,
   "metadata": {},
   "outputs": [
    {
     "data": {
      "text/plain": [
       "'../data/textures'"
      ]
     },
     "execution_count": 7,
     "metadata": {},
     "output_type": "execute_result"
    }
   ],
   "source": [
    "### Load overlay textures\n",
    "url = \"https://drive.google.com/file/d/19UkTo531efYLbvYT768OfvRej9EnQEEd/view?usp=sharing\"\n",
    "download_and_unzip_from_drive(url, \"textures\")"
   ]
  },
  {
   "cell_type": "code",
   "execution_count": 8,
   "metadata": {},
   "outputs": [
    {
     "data": {
      "text/plain": [
       "'../checkpoints/pretrained-grayscale.weights.h5'"
      ]
     },
     "execution_count": 8,
     "metadata": {},
     "output_type": "execute_result"
    }
   ],
   "source": [
    "### Load pretrained model\n",
    "url = \"https://drive.google.com/file/d/15R_p0fHxM8qwHBQtnE7pWeXbqsmdrheP/view?usp=sharing\"\n",
    "download_checkpoint_from_drive(url, \"pretrained-grayscale\")"
   ]
  }
 ],
 "metadata": {
  "kernelspec": {
   "display_name": "venv",
   "language": "python",
   "name": "python3"
  },
  "language_info": {
   "codemirror_mode": {
    "name": "ipython",
    "version": 3
   },
   "file_extension": ".py",
   "mimetype": "text/x-python",
   "name": "python",
   "nbconvert_exporter": "python",
   "pygments_lexer": "ipython3",
   "version": "3.10.12"
  }
 },
 "nbformat": 4,
 "nbformat_minor": 2
}
