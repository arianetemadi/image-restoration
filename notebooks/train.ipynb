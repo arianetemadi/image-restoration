{
 "cells": [
  {
   "cell_type": "markdown",
   "metadata": {},
   "source": [
    "### Notebook for training"
   ]
  },
  {
   "cell_type": "markdown",
   "metadata": {},
   "source": [
    "Make sure you have run the download_data script (or notebook) beforehand."
   ]
  },
  {
   "cell_type": "markdown",
   "metadata": {},
   "source": [
    "Let's first begin by importing from our source files:"
   ]
  },
  {
   "cell_type": "code",
   "execution_count": null,
   "metadata": {},
   "outputs": [],
   "source": [
    "from src.dataloader import Dataloader\n",
    "from src.train import Trainer\n",
    "from src.model import UNet"
   ]
  },
  {
   "cell_type": "markdown",
   "metadata": {},
   "source": [
    "Then we can load the datasets for training and validation:"
   ]
  },
  {
   "cell_type": "code",
   "execution_count": null,
   "metadata": {},
   "outputs": [],
   "source": [
    "image_dir = \"../data/div2k-hr-train/\"\n",
    "texture_dir = \"../data/textures/\"\n",
    "color_mode = \"rgb\"\n",
    "\n",
    "dataloader = Dataloader(\n",
    "    image_dir,\n",
    "    texture_dir,\n",
    "    image_size=(32 * 21, 32 * 32),  # = (672, 1024)\n",
    "    batch_size=8,\n",
    "    color_mode=color_mode,\n",
    "    validation_split=0.2,\n",
    ")\n",
    "\n",
    "train_ds, val_ds = dataloader.load_datasets(\n",
    "    noisy=True,\n",
    "    textured=True,\n",
    "    texture_alpha=0.1,\n",
    "    shuffle=True,\n",
    ")\n",
    "\n",
    "dataloader.show_samples(2)"
   ]
  },
  {
   "cell_type": "markdown",
   "metadata": {},
   "source": [
    "Now we are prepared to train the model:"
   ]
  },
  {
   "cell_type": "code",
   "execution_count": null,
   "metadata": {},
   "outputs": [],
   "source": [
    "# instantiate the model\n",
    "model = UNet(color_mode=color_mode)\n",
    "\n",
    "# instantiate the trainer\n",
    "trainer = Trainer(\n",
    "    model=model,\n",
    "    train_ds=train_ds,\n",
    "    val_ds=val_ds,\n",
    "    checkpoint_filepath=\"../checkpoints/checkpoint.weights.h5\",\n",
    "    epochs=10,\n",
    "    learning_rate=1e-3,\n",
    ")\n",
    "\n",
    "# run the training loop\n",
    "trainer.train(num_samples_shown=4)"
   ]
  }
 ],
 "metadata": {
  "kernelspec": {
   "display_name": "venv",
   "language": "python",
   "name": "python3"
  },
  "language_info": {
   "codemirror_mode": {
    "name": "ipython",
    "version": 3
   },
   "file_extension": ".py",
   "mimetype": "text/x-python",
   "name": "python",
   "nbconvert_exporter": "python",
   "pygments_lexer": "ipython3",
   "version": "3.10.12"
  }
 },
 "nbformat": 4,
 "nbformat_minor": 2
}
