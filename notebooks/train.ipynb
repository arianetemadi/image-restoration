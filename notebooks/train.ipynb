{
 "cells": [
  {
   "cell_type": "code",
   "execution_count": null,
   "metadata": {},
   "outputs": [],
   "source": [
    "from src.dataloader import Dataloader\n",
    "\n",
    "dataloader = Dataloader(\n",
    "    image_dir=\"../data/div2k-hr/\",\n",
    "    texture_dir=\"../data/textures/\",\n",
    "    image_size=(32 * 21, 32 * 32),\n",
    "    batch_size=8,\n",
    "    validation_split=0.2,\n",
    ")\n",
    "\n",
    "train_ds, val_ds = dataloader.load_datasets(\n",
    "    noisy=True,\n",
    "    textured=True,\n",
    "    texture_alpha=0.3,\n",
    "    shuffle=True,\n",
    ")\n",
    "\n",
    "# dataloader.show_samples(2)"
   ]
  },
  {
   "cell_type": "code",
   "execution_count": null,
   "metadata": {},
   "outputs": [],
   "source": [
    "from src.train import Trainer\n",
    "from src.model import UNet\n",
    "model = UNet()\n",
    "trainer = Trainer(\n",
    "    model=model,\n",
    "    train_ds=train_ds,\n",
    "    val_ds=val_ds,\n",
    "    epochs=10,\n",
    "    learning_rate=1e-3,\n",
    ")\n",
    "trainer.train(show_samples=4)"
   ]
  }
 ],
 "metadata": {
  "kernelspec": {
   "display_name": "venv",
   "language": "python",
   "name": "python3"
  },
  "language_info": {
   "codemirror_mode": {
    "name": "ipython",
    "version": 3
   },
   "file_extension": ".py",
   "mimetype": "text/x-python",
   "name": "python",
   "nbconvert_exporter": "python",
   "pygments_lexer": "ipython3",
   "version": "3.10.12"
  }
 },
 "nbformat": 4,
 "nbformat_minor": 2
}
