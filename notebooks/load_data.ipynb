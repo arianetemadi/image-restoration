{
 "cells": [
  {
   "cell_type": "code",
   "execution_count": 2,
   "metadata": {},
   "outputs": [],
   "source": [
    "from src.load_data import load_data_google_drive"
   ]
  },
  {
   "cell_type": "code",
   "execution_count": null,
   "metadata": {},
   "outputs": [],
   "source": [
    "### Load the DIV2K dataset\n",
    "url = \"https://drive.google.com/file/d/15M1sLNX7uX16fo6UmszTlfmrKAmLizdB/view?usp=sharing\"\n",
    "load_data_google_drive(url, \"div2k-hr\")"
   ]
  },
  {
   "cell_type": "code",
   "execution_count": 7,
   "metadata": {},
   "outputs": [
    {
     "name": "stderr",
     "output_type": "stream",
     "text": [
      "Downloading...\n",
      "From (original): https://drive.google.com/uc?id=1-35t5gG8JXVJ9n0S_nyvBEWheh2s5Bax\n",
      "From (redirected): https://drive.google.com/uc?id=1-35t5gG8JXVJ9n0S_nyvBEWheh2s5Bax&confirm=t&uuid=190e6224-4e05-40df-bbf3-644bf2916931\n",
      "To: /home/arian/projects/image-restoration/data/textures.zip\n",
      "100%|██████████| 72.4M/72.4M [01:22<00:00, 878kB/s] \n"
     ]
    },
    {
     "data": {
      "text/plain": [
       "'../data/textures'"
      ]
     },
     "execution_count": 7,
     "metadata": {},
     "output_type": "execute_result"
    }
   ],
   "source": [
    "### Load overlay textures\n",
    "url = \"https://drive.google.com/file/d/1-35t5gG8JXVJ9n0S_nyvBEWheh2s5Bax/view?usp=sharing\"\n",
    "load_data_google_drive(url, \"textures\")"
   ]
  }
 ],
 "metadata": {
  "kernelspec": {
   "display_name": "venv",
   "language": "python",
   "name": "python3"
  },
  "language_info": {
   "codemirror_mode": {
    "name": "ipython",
    "version": 3
   },
   "file_extension": ".py",
   "mimetype": "text/x-python",
   "name": "python",
   "nbconvert_exporter": "python",
   "pygments_lexer": "ipython3",
   "version": "3.10.12"
  }
 },
 "nbformat": 4,
 "nbformat_minor": 2
}
