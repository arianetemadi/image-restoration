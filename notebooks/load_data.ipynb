{
 "cells": [
  {
   "cell_type": "code",
   "execution_count": 1,
   "metadata": {},
   "outputs": [],
   "source": [
    "import shutil\n",
    "import gdown\n",
    "import os"
   ]
  },
  {
   "cell_type": "code",
   "execution_count": 4,
   "metadata": {},
   "outputs": [],
   "source": [
    "# download the zip file from Google Drive\n",
    "zipped_file = \"../data/div2k-hr-train.zip\"\n",
    "if not os.path.isfile(zipped_file):\n",
    "    url = \"https://drive.google.com/file/d/15M1sLNX7uX16fo6UmszTlfmrKAmLizdB/view?usp=sharing\"\n",
    "    gdown.download(url=url, output=zipped_file, fuzzy=True)\n",
    "\n",
    "# unzip files\n",
    "dir = \"../data/div2k-hr-train\"\n",
    "if not os.path.isdir(dir) or not os.listdir(dir):\n",
    "    shutil.unpack_archive(zipped_file, dir)"
   ]
  }
 ],
 "metadata": {
  "kernelspec": {
   "display_name": "venv",
   "language": "python",
   "name": "python3"
  },
  "language_info": {
   "codemirror_mode": {
    "name": "ipython",
    "version": 3
   },
   "file_extension": ".py",
   "mimetype": "text/x-python",
   "name": "python",
   "nbconvert_exporter": "python",
   "pygments_lexer": "ipython3",
   "version": "3.10.12"
  }
 },
 "nbformat": 4,
 "nbformat_minor": 2
}
